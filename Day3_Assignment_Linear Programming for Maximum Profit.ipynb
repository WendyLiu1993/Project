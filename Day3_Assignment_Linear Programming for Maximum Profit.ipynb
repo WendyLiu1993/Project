{
  "nbformat": 4,
  "nbformat_minor": 0,
  "metadata": {
    "colab": {
      "provenance": []
    },
    "kernelspec": {
      "name": "python3",
      "display_name": "Python 3"
    },
    "language_info": {
      "name": "python"
    }
  },
  "cells": [
    {
      "cell_type": "code",
      "execution_count": null,
      "metadata": {
        "colab": {
          "base_uri": "https://localhost:8080/"
        },
        "id": "p2Z5VP15AzMQ",
        "outputId": "aa9cfeee-45f8-4ff4-8414-78ea7a8ec4e6"
      },
      "outputs": [
        {
          "output_type": "stream",
          "name": "stdout",
          "text": [
            "Collecting pulp\n",
            "  Downloading PuLP-2.7.0-py3-none-any.whl (14.3 MB)\n",
            "\u001b[2K     \u001b[90m━━━━━━━━━━━━━━━━━━━━━━━━━━━━━━━━━━━━━━━━\u001b[0m \u001b[32m14.3/14.3 MB\u001b[0m \u001b[31m31.1 MB/s\u001b[0m eta \u001b[36m0:00:00\u001b[0m\n",
            "\u001b[?25hInstalling collected packages: pulp\n",
            "Successfully installed pulp-2.7.0\n"
          ]
        }
      ],
      "source": [
        "pip install pulp"
      ]
    },
    {
      "cell_type": "code",
      "source": [
        "from pulp import *"
      ],
      "metadata": {
        "id": "YOcC6cAlBCoI"
      },
      "execution_count": null,
      "outputs": []
    },
    {
      "cell_type": "code",
      "source": [
        "lp=LpProblem('Wood_Gurus',LpMaximize)"
      ],
      "metadata": {
        "id": "kkdi5W7UE62k"
      },
      "execution_count": null,
      "outputs": []
    },
    {
      "cell_type": "code",
      "source": [
        "x1=LpVariable(name='Tahoe',lowBound=0, cat='Integer') #category=integer\n",
        "x2=LpVariable(name='Pacific',lowBound=0, cat='Integer')\n",
        "x3=LpVariable(name='Savannah',lowBound=0, cat='Integer')\n",
        "x4=LpVariable(name='Aspen',lowBound=0, cat='Integer')"
      ],
      "metadata": {
        "id": "xNvmkDL4FNz2"
      },
      "execution_count": null,
      "outputs": []
    },
    {
      "cell_type": "code",
      "source": [
        "#add the objective funtion\n",
        "lp += (450* x1)+(1150* x2)+(800* x3)+(400* x4) #lp=lp+\n",
        "print(lp.objective)"
      ],
      "metadata": {
        "colab": {
          "base_uri": "https://localhost:8080/"
        },
        "id": "W1_WByB6FnAF",
        "outputId": "040d8454-e947-44f5-bb4b-6bef3f2b01fb"
      },
      "execution_count": null,
      "outputs": [
        {
          "output_type": "stream",
          "name": "stdout",
          "text": [
            "400*Aspen + 1150*Pacific + 800*Savannah + 450*Tahoe\n"
          ]
        }
      ]
    },
    {
      "cell_type": "code",
      "source": [
        "lp += (100*x1+100*x2+200*x3+100*x4 <= 5800)\n",
        "lp += (10*x1+30*x2+20*x3+10*x4 <= 730)\n",
        "lp += (1000*x1+800*x2+600*x3+400*x4 <= 29200)\n",
        "lp += (1000*x1+1500*x2+500*x3+1000*x4 <= 60500)\n",
        "print(lp.constraints)\n"
      ],
      "metadata": {
        "colab": {
          "base_uri": "https://localhost:8080/"
        },
        "id": "a8Q2990zGoT4",
        "outputId": "7e5aaa5b-6452-4db5-c062-c8bd6c4e6d09"
      },
      "execution_count": null,
      "outputs": [
        {
          "output_type": "stream",
          "name": "stdout",
          "text": [
            "OrderedDict([('_C1', 100*Aspen + 100*Pacific + 200*Savannah + 100*Tahoe + -5800 <= 0), ('_C2', 10*Aspen + 30*Pacific + 20*Savannah + 10*Tahoe + -730 <= 0), ('_C3', 400*Aspen + 800*Pacific + 600*Savannah + 1000*Tahoe + -29200 <= 0), ('_C4', 1000*Aspen + 1500*Pacific + 500*Savannah + 1000*Tahoe + -60500 <= 0)])\n"
          ]
        }
      ]
    },
    {
      "cell_type": "code",
      "source": [
        "#solve the LP\n",
        "status=lp.solve()\n",
        "#status=lp.solve(PULP_CBC_CMD(msg=0))\n",
        "print('Status:',status) #1:optimal 2:not solved 3:infesible 4:unbrounded 5:undef"
      ],
      "metadata": {
        "colab": {
          "base_uri": "https://localhost:8080/"
        },
        "id": "XCEhpBX9Ibrz",
        "outputId": "44340e5b-4fe9-4901-dd86-d0e2761f256b"
      },
      "execution_count": null,
      "outputs": [
        {
          "output_type": "stream",
          "name": "stdout",
          "text": [
            "Status: 1\n"
          ]
        }
      ]
    },
    {
      "cell_type": "code",
      "source": [
        "for var in lp.variables():\n",
        "  print(var,'=',value(var))\n",
        "print('OPT=',value(lp.objective))"
      ],
      "metadata": {
        "colab": {
          "base_uri": "https://localhost:8080/"
        },
        "id": "BODr0bXwIf6p",
        "outputId": "3cbaccb5-4464-4bd5-9d08-0bb44bf67a90"
      },
      "execution_count": null,
      "outputs": [
        {
          "output_type": "stream",
          "name": "stdout",
          "text": [
            "Aspen = 0.0\n",
            "Pacific = 8.0\n",
            "Savannah = 19.0\n",
            "Tahoe = 11.0\n",
            "OPT= 29350.0\n"
          ]
        }
      ]
    }
  ]
}
